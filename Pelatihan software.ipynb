{
 "cells": [
  {
   "cell_type": "code",
   "execution_count": 1,
   "id": "df56036d",
   "metadata": {},
   "outputs": [],
   "source": [
    "import pandas as pd\n",
    "import numpy as np\n",
    "import matplotlib.pyplot as plt\n"
   ]
  },
  {
   "cell_type": "markdown",
   "id": "ed25202a",
   "metadata": {},
   "source": [
    "# Membaca data set"
   ]
  },
  {
   "cell_type": "code",
   "execution_count": 2,
   "id": "3619e72d",
   "metadata": {},
   "outputs": [
    {
     "data": {
      "text/html": [
       "<div>\n",
       "<style scoped>\n",
       "    .dataframe tbody tr th:only-of-type {\n",
       "        vertical-align: middle;\n",
       "    }\n",
       "\n",
       "    .dataframe tbody tr th {\n",
       "        vertical-align: top;\n",
       "    }\n",
       "\n",
       "    .dataframe thead th {\n",
       "        text-align: right;\n",
       "    }\n",
       "</style>\n",
       "<table border=\"1\" class=\"dataframe\">\n",
       "  <thead>\n",
       "    <tr style=\"text-align: right;\">\n",
       "      <th></th>\n",
       "      <th>Unnamed: 0</th>\n",
       "      <th>IDENTITAS</th>\n",
       "      <th>UMUR</th>\n",
       "      <th>JENIS_KELAMIN</th>\n",
       "      <th>PENGALAMAN_MENGEMUDI</th>\n",
       "      <th>PENDIDIKAN</th>\n",
       "      <th>PENGHASILAN</th>\n",
       "      <th>SKOR_KREDIT</th>\n",
       "      <th>PEMILIK_KENDARAAN</th>\n",
       "      <th>TAHUN_PRODUKSI</th>\n",
       "      <th>STATUS</th>\n",
       "      <th>ANAK</th>\n",
       "      <th>KODE_POS</th>\n",
       "      <th>KM_PER_TAHUN</th>\n",
       "      <th>JENIS_KENDARAAN</th>\n",
       "      <th>TILANG_NGEBUT</th>\n",
       "      <th>TILANG_MABUK</th>\n",
       "      <th>KECELAKAAN_SEBELUMNYA</th>\n",
       "      <th>KLAIM</th>\n",
       "    </tr>\n",
       "  </thead>\n",
       "  <tbody>\n",
       "    <tr>\n",
       "      <th>0</th>\n",
       "      <td>0</td>\n",
       "      <td>569520</td>\n",
       "      <td>lebih dari 65 tahun</td>\n",
       "      <td>perempuan</td>\n",
       "      <td>kurang dari 10 tahun</td>\n",
       "      <td>SMA</td>\n",
       "      <td>lebih dari 3x UMR</td>\n",
       "      <td>0.629027</td>\n",
       "      <td>ya</td>\n",
       "      <td>setelah 2020</td>\n",
       "      <td>belum menikah</td>\n",
       "      <td>ada</td>\n",
       "      <td>10238</td>\n",
       "      <td>12000.0</td>\n",
       "      <td>keluarga</td>\n",
       "      <td>0</td>\n",
       "      <td>0</td>\n",
       "      <td>0</td>\n",
       "      <td>tidak</td>\n",
       "    </tr>\n",
       "    <tr>\n",
       "      <th>1</th>\n",
       "      <td>1</td>\n",
       "      <td>750365</td>\n",
       "      <td>kurang dari 25 tahun</td>\n",
       "      <td>laki-laki</td>\n",
       "      <td>kurang dari 10 tahun</td>\n",
       "      <td>tidak ada</td>\n",
       "      <td>kurang dari UMR</td>\n",
       "      <td>0.357757</td>\n",
       "      <td>tidak</td>\n",
       "      <td>sebelum 2020</td>\n",
       "      <td>belum menikah</td>\n",
       "      <td>tidak ada</td>\n",
       "      <td>10238</td>\n",
       "      <td>16000.0</td>\n",
       "      <td>keluarga</td>\n",
       "      <td>0</td>\n",
       "      <td>0</td>\n",
       "      <td>0</td>\n",
       "      <td>ya</td>\n",
       "    </tr>\n",
       "    <tr>\n",
       "      <th>2</th>\n",
       "      <td>2</td>\n",
       "      <td>199901</td>\n",
       "      <td>kurang dari 25 tahun</td>\n",
       "      <td>perempuan</td>\n",
       "      <td>kurang dari 10 tahun</td>\n",
       "      <td>SMA</td>\n",
       "      <td>antara 1-2x UMR</td>\n",
       "      <td>0.493146</td>\n",
       "      <td>ya</td>\n",
       "      <td>sebelum 2020</td>\n",
       "      <td>belum menikah</td>\n",
       "      <td>tidak ada</td>\n",
       "      <td>10238</td>\n",
       "      <td>11000.0</td>\n",
       "      <td>keluarga</td>\n",
       "      <td>0</td>\n",
       "      <td>0</td>\n",
       "      <td>0</td>\n",
       "      <td>tidak</td>\n",
       "    </tr>\n",
       "    <tr>\n",
       "      <th>3</th>\n",
       "      <td>3</td>\n",
       "      <td>478866</td>\n",
       "      <td>kurang dari 25 tahun</td>\n",
       "      <td>laki-laki</td>\n",
       "      <td>kurang dari 10 tahun</td>\n",
       "      <td>universitas</td>\n",
       "      <td>antara 1-2x UMR</td>\n",
       "      <td>0.206013</td>\n",
       "      <td>ya</td>\n",
       "      <td>sebelum 2020</td>\n",
       "      <td>belum menikah</td>\n",
       "      <td>ada</td>\n",
       "      <td>32765</td>\n",
       "      <td>11000.0</td>\n",
       "      <td>keluarga</td>\n",
       "      <td>0</td>\n",
       "      <td>0</td>\n",
       "      <td>0</td>\n",
       "      <td>tidak</td>\n",
       "    </tr>\n",
       "    <tr>\n",
       "      <th>4</th>\n",
       "      <td>4</td>\n",
       "      <td>731664</td>\n",
       "      <td>antara 25-40 tahun</td>\n",
       "      <td>laki-laki</td>\n",
       "      <td>antara 10-20 tahun</td>\n",
       "      <td>tidak ada</td>\n",
       "      <td>antara 1-2x UMR</td>\n",
       "      <td>0.388366</td>\n",
       "      <td>ya</td>\n",
       "      <td>sebelum 2020</td>\n",
       "      <td>belum menikah</td>\n",
       "      <td>tidak ada</td>\n",
       "      <td>32765</td>\n",
       "      <td>12000.0</td>\n",
       "      <td>keluarga</td>\n",
       "      <td>2</td>\n",
       "      <td>0</td>\n",
       "      <td>1</td>\n",
       "      <td>ya</td>\n",
       "    </tr>\n",
       "  </tbody>\n",
       "</table>\n",
       "</div>"
      ],
      "text/plain": [
       "   Unnamed: 0  IDENTITAS                  UMUR JENIS_KELAMIN  \\\n",
       "0           0     569520   lebih dari 65 tahun     perempuan   \n",
       "1           1     750365  kurang dari 25 tahun     laki-laki   \n",
       "2           2     199901  kurang dari 25 tahun     perempuan   \n",
       "3           3     478866  kurang dari 25 tahun     laki-laki   \n",
       "4           4     731664    antara 25-40 tahun     laki-laki   \n",
       "\n",
       "   PENGALAMAN_MENGEMUDI   PENDIDIKAN        PENGHASILAN  SKOR_KREDIT  \\\n",
       "0  kurang dari 10 tahun          SMA  lebih dari 3x UMR     0.629027   \n",
       "1  kurang dari 10 tahun    tidak ada    kurang dari UMR     0.357757   \n",
       "2  kurang dari 10 tahun          SMA    antara 1-2x UMR     0.493146   \n",
       "3  kurang dari 10 tahun  universitas    antara 1-2x UMR     0.206013   \n",
       "4    antara 10-20 tahun    tidak ada    antara 1-2x UMR     0.388366   \n",
       "\n",
       "  PEMILIK_KENDARAAN TAHUN_PRODUKSI         STATUS       ANAK  KODE_POS  \\\n",
       "0                ya   setelah 2020  belum menikah        ada     10238   \n",
       "1             tidak   sebelum 2020  belum menikah  tidak ada     10238   \n",
       "2                ya   sebelum 2020  belum menikah  tidak ada     10238   \n",
       "3                ya   sebelum 2020  belum menikah        ada     32765   \n",
       "4                ya   sebelum 2020  belum menikah  tidak ada     32765   \n",
       "\n",
       "   KM_PER_TAHUN JENIS_KENDARAAN  TILANG_NGEBUT  TILANG_MABUK  \\\n",
       "0       12000.0        keluarga              0             0   \n",
       "1       16000.0        keluarga              0             0   \n",
       "2       11000.0        keluarga              0             0   \n",
       "3       11000.0        keluarga              0             0   \n",
       "4       12000.0        keluarga              2             0   \n",
       "\n",
       "   KECELAKAAN_SEBELUMNYA  KLAIM  \n",
       "0                      0  tidak  \n",
       "1                      0     ya  \n",
       "2                      0  tidak  \n",
       "3                      0  tidak  \n",
       "4                      1     ya  "
      ]
     },
     "execution_count": 2,
     "metadata": {},
     "output_type": "execute_result"
    }
   ],
   "source": [
    "data = pd.read_csv('C:/Users/ASUS/Downloads/asuransi_mobil.csv')\n",
    "data.head()"
   ]
  },
  {
   "cell_type": "code",
   "execution_count": 3,
   "id": "101533d1",
   "metadata": {},
   "outputs": [
    {
     "data": {
      "text/html": [
       "<div>\n",
       "<style scoped>\n",
       "    .dataframe tbody tr th:only-of-type {\n",
       "        vertical-align: middle;\n",
       "    }\n",
       "\n",
       "    .dataframe tbody tr th {\n",
       "        vertical-align: top;\n",
       "    }\n",
       "\n",
       "    .dataframe thead th {\n",
       "        text-align: right;\n",
       "    }\n",
       "</style>\n",
       "<table border=\"1\" class=\"dataframe\">\n",
       "  <thead>\n",
       "    <tr style=\"text-align: right;\">\n",
       "      <th></th>\n",
       "      <th>Unnamed: 0</th>\n",
       "      <th>IDENTITAS</th>\n",
       "      <th>SKOR_KREDIT</th>\n",
       "      <th>KODE_POS</th>\n",
       "      <th>KM_PER_TAHUN</th>\n",
       "      <th>TILANG_NGEBUT</th>\n",
       "      <th>TILANG_MABUK</th>\n",
       "      <th>KECELAKAAN_SEBELUMNYA</th>\n",
       "    </tr>\n",
       "  </thead>\n",
       "  <tbody>\n",
       "    <tr>\n",
       "      <th>count</th>\n",
       "      <td>10000.00000</td>\n",
       "      <td>10000.000000</td>\n",
       "      <td>9018.000000</td>\n",
       "      <td>10000.000000</td>\n",
       "      <td>9043.000000</td>\n",
       "      <td>10000.000000</td>\n",
       "      <td>10000.00000</td>\n",
       "      <td>10000.000000</td>\n",
       "    </tr>\n",
       "    <tr>\n",
       "      <th>mean</th>\n",
       "      <td>4999.50000</td>\n",
       "      <td>500521.906800</td>\n",
       "      <td>0.515813</td>\n",
       "      <td>19864.548400</td>\n",
       "      <td>11697.003207</td>\n",
       "      <td>1.482900</td>\n",
       "      <td>0.23920</td>\n",
       "      <td>1.056300</td>\n",
       "    </tr>\n",
       "    <tr>\n",
       "      <th>std</th>\n",
       "      <td>2886.89568</td>\n",
       "      <td>290030.768758</td>\n",
       "      <td>0.137688</td>\n",
       "      <td>18915.613855</td>\n",
       "      <td>2818.434528</td>\n",
       "      <td>2.241966</td>\n",
       "      <td>0.55499</td>\n",
       "      <td>1.652454</td>\n",
       "    </tr>\n",
       "    <tr>\n",
       "      <th>min</th>\n",
       "      <td>0.00000</td>\n",
       "      <td>101.000000</td>\n",
       "      <td>0.053358</td>\n",
       "      <td>10238.000000</td>\n",
       "      <td>2000.000000</td>\n",
       "      <td>0.000000</td>\n",
       "      <td>0.00000</td>\n",
       "      <td>0.000000</td>\n",
       "    </tr>\n",
       "    <tr>\n",
       "      <th>25%</th>\n",
       "      <td>2499.75000</td>\n",
       "      <td>249638.500000</td>\n",
       "      <td>0.417191</td>\n",
       "      <td>10238.000000</td>\n",
       "      <td>10000.000000</td>\n",
       "      <td>0.000000</td>\n",
       "      <td>0.00000</td>\n",
       "      <td>0.000000</td>\n",
       "    </tr>\n",
       "    <tr>\n",
       "      <th>50%</th>\n",
       "      <td>4999.50000</td>\n",
       "      <td>501777.000000</td>\n",
       "      <td>0.525033</td>\n",
       "      <td>10238.000000</td>\n",
       "      <td>12000.000000</td>\n",
       "      <td>0.000000</td>\n",
       "      <td>0.00000</td>\n",
       "      <td>0.000000</td>\n",
       "    </tr>\n",
       "    <tr>\n",
       "      <th>75%</th>\n",
       "      <td>7499.25000</td>\n",
       "      <td>753974.500000</td>\n",
       "      <td>0.618312</td>\n",
       "      <td>32765.000000</td>\n",
       "      <td>14000.000000</td>\n",
       "      <td>2.000000</td>\n",
       "      <td>0.00000</td>\n",
       "      <td>2.000000</td>\n",
       "    </tr>\n",
       "    <tr>\n",
       "      <th>max</th>\n",
       "      <td>9999.00000</td>\n",
       "      <td>999976.000000</td>\n",
       "      <td>0.960819</td>\n",
       "      <td>92101.000000</td>\n",
       "      <td>22000.000000</td>\n",
       "      <td>22.000000</td>\n",
       "      <td>6.00000</td>\n",
       "      <td>15.000000</td>\n",
       "    </tr>\n",
       "  </tbody>\n",
       "</table>\n",
       "</div>"
      ],
      "text/plain": [
       "        Unnamed: 0      IDENTITAS  SKOR_KREDIT      KODE_POS  KM_PER_TAHUN  \\\n",
       "count  10000.00000   10000.000000  9018.000000  10000.000000   9043.000000   \n",
       "mean    4999.50000  500521.906800     0.515813  19864.548400  11697.003207   \n",
       "std     2886.89568  290030.768758     0.137688  18915.613855   2818.434528   \n",
       "min        0.00000     101.000000     0.053358  10238.000000   2000.000000   \n",
       "25%     2499.75000  249638.500000     0.417191  10238.000000  10000.000000   \n",
       "50%     4999.50000  501777.000000     0.525033  10238.000000  12000.000000   \n",
       "75%     7499.25000  753974.500000     0.618312  32765.000000  14000.000000   \n",
       "max     9999.00000  999976.000000     0.960819  92101.000000  22000.000000   \n",
       "\n",
       "       TILANG_NGEBUT  TILANG_MABUK  KECELAKAAN_SEBELUMNYA  \n",
       "count   10000.000000   10000.00000           10000.000000  \n",
       "mean        1.482900       0.23920               1.056300  \n",
       "std         2.241966       0.55499               1.652454  \n",
       "min         0.000000       0.00000               0.000000  \n",
       "25%         0.000000       0.00000               0.000000  \n",
       "50%         0.000000       0.00000               0.000000  \n",
       "75%         2.000000       0.00000               2.000000  \n",
       "max        22.000000       6.00000              15.000000  "
      ]
     },
     "execution_count": 3,
     "metadata": {},
     "output_type": "execute_result"
    }
   ],
   "source": [
    "# Data describe\n",
    "data.describe()"
   ]
  },
  {
   "cell_type": "code",
   "execution_count": 4,
   "id": "bd0aebb9",
   "metadata": {},
   "outputs": [
    {
     "data": {
      "text/plain": [
       "Unnamed: 0                 int64\n",
       "IDENTITAS                  int64\n",
       "UMUR                      object\n",
       "JENIS_KELAMIN             object\n",
       "PENGALAMAN_MENGEMUDI      object\n",
       "PENDIDIKAN                object\n",
       "PENGHASILAN               object\n",
       "SKOR_KREDIT              float64\n",
       "PEMILIK_KENDARAAN         object\n",
       "TAHUN_PRODUKSI            object\n",
       "STATUS                    object\n",
       "ANAK                      object\n",
       "KODE_POS                   int64\n",
       "KM_PER_TAHUN             float64\n",
       "JENIS_KENDARAAN           object\n",
       "TILANG_NGEBUT              int64\n",
       "TILANG_MABUK               int64\n",
       "KECELAKAAN_SEBELUMNYA      int64\n",
       "KLAIM                     object\n",
       "dtype: object"
      ]
     },
     "execution_count": 4,
     "metadata": {},
     "output_type": "execute_result"
    }
   ],
   "source": [
    "data.dtypes"
   ]
  },
  {
   "cell_type": "code",
   "execution_count": 5,
   "id": "148c1172",
   "metadata": {},
   "outputs": [
    {
     "data": {
      "text/plain": [
       "Unnamed: 0                 0\n",
       "IDENTITAS                  0\n",
       "UMUR                       0\n",
       "JENIS_KELAMIN              0\n",
       "PENGALAMAN_MENGEMUDI       0\n",
       "PENDIDIKAN                 0\n",
       "PENGHASILAN                0\n",
       "SKOR_KREDIT              982\n",
       "PEMILIK_KENDARAAN          0\n",
       "TAHUN_PRODUKSI             0\n",
       "STATUS                     0\n",
       "ANAK                       0\n",
       "KODE_POS                   0\n",
       "KM_PER_TAHUN             957\n",
       "JENIS_KENDARAAN            0\n",
       "TILANG_NGEBUT              0\n",
       "TILANG_MABUK               0\n",
       "KECELAKAAN_SEBELUMNYA      0\n",
       "KLAIM                      0\n",
       "dtype: int64"
      ]
     },
     "execution_count": 5,
     "metadata": {},
     "output_type": "execute_result"
    }
   ],
   "source": [
    "data.isnull().sum()"
   ]
  },
  {
   "cell_type": "code",
   "execution_count": 6,
   "id": "665388b4",
   "metadata": {},
   "outputs": [
    {
     "data": {
      "text/plain": [
       "array(['lebih dari 65 tahun', 'kurang dari 25 tahun',\n",
       "       'antara 25-40 tahun', 'antara 40-65 tahun'], dtype=object)"
      ]
     },
     "execution_count": 6,
     "metadata": {},
     "output_type": "execute_result"
    }
   ],
   "source": [
    "data.UMUR.unique()"
   ]
  },
  {
   "cell_type": "code",
   "execution_count": 7,
   "id": "ddb93a25",
   "metadata": {},
   "outputs": [
    {
     "data": {
      "text/plain": [
       "array(['kurang dari 10 tahun', 'antara 10-20 tahun', 'antara 20-30 tahun',\n",
       "       'lebih dari 30 tahun'], dtype=object)"
      ]
     },
     "execution_count": 7,
     "metadata": {},
     "output_type": "execute_result"
    }
   ],
   "source": [
    "data.PENGALAMAN_MENGEMUDI.unique()"
   ]
  },
  {
   "cell_type": "code",
   "execution_count": 8,
   "id": "fe9c434a",
   "metadata": {},
   "outputs": [
    {
     "data": {
      "text/plain": [
       "array(['SMA', 'tidak ada', 'universitas'], dtype=object)"
      ]
     },
     "execution_count": 8,
     "metadata": {},
     "output_type": "execute_result"
    }
   ],
   "source": [
    "data.PENDIDIKAN.unique()"
   ]
  },
  {
   "cell_type": "code",
   "execution_count": 9,
   "id": "0467b143",
   "metadata": {},
   "outputs": [
    {
     "data": {
      "text/plain": [
       "array(['lebih dari 3x UMR', 'kurang dari UMR', 'antara 1-2x UMR',\n",
       "       'antara 2-3x UMR'], dtype=object)"
      ]
     },
     "execution_count": 9,
     "metadata": {},
     "output_type": "execute_result"
    }
   ],
   "source": [
    "data.PENGHASILAN.unique()"
   ]
  },
  {
   "cell_type": "code",
   "execution_count": 10,
   "id": "ceaeba87",
   "metadata": {},
   "outputs": [
    {
     "data": {
      "text/plain": [
       "array(['ya', 'tidak'], dtype=object)"
      ]
     },
     "execution_count": 10,
     "metadata": {},
     "output_type": "execute_result"
    }
   ],
   "source": [
    "data.PEMILIK_KENDARAAN.unique()"
   ]
  },
  {
   "cell_type": "code",
   "execution_count": 11,
   "id": "c84da5b7",
   "metadata": {},
   "outputs": [
    {
     "data": {
      "text/plain": [
       "array(['setelah 2020', 'sebelum 2020'], dtype=object)"
      ]
     },
     "execution_count": 11,
     "metadata": {},
     "output_type": "execute_result"
    }
   ],
   "source": [
    "data.TAHUN_PRODUKSI.unique()"
   ]
  },
  {
   "cell_type": "code",
   "execution_count": 12,
   "id": "f9805b51",
   "metadata": {},
   "outputs": [
    {
     "data": {
      "text/plain": [
       "array(['belum menikah', 'menikah'], dtype=object)"
      ]
     },
     "execution_count": 12,
     "metadata": {},
     "output_type": "execute_result"
    }
   ],
   "source": [
    "data.STATUS.unique()"
   ]
  },
  {
   "cell_type": "code",
   "execution_count": 13,
   "id": "01277313",
   "metadata": {},
   "outputs": [
    {
     "data": {
      "text/plain": [
       "array(['ada', 'tidak ada'], dtype=object)"
      ]
     },
     "execution_count": 13,
     "metadata": {},
     "output_type": "execute_result"
    }
   ],
   "source": [
    "data.ANAK.unique()"
   ]
  },
  {
   "cell_type": "code",
   "execution_count": 14,
   "id": "9adbe391",
   "metadata": {},
   "outputs": [
    {
     "data": {
      "text/plain": [
       "array(['keluarga', 'sport'], dtype=object)"
      ]
     },
     "execution_count": 14,
     "metadata": {},
     "output_type": "execute_result"
    }
   ],
   "source": [
    "data.JENIS_KENDARAAN.unique()"
   ]
  },
  {
   "cell_type": "code",
   "execution_count": 15,
   "id": "9848f023",
   "metadata": {},
   "outputs": [
    {
     "data": {
      "text/plain": [
       "array(['tidak', 'ya'], dtype=object)"
      ]
     },
     "execution_count": 15,
     "metadata": {},
     "output_type": "execute_result"
    }
   ],
   "source": [
    "data.KLAIM.unique()"
   ]
  },
  {
   "cell_type": "code",
   "execution_count": 16,
   "id": "d54a192c",
   "metadata": {},
   "outputs": [],
   "source": [
    "#melakukak mapping\n",
    "data['UMUR'] = \\\n",
    "data['UMUR'].map({\"kurang dari 25 tahun\":0, \"antara 25-40 tahun\":1, \"antara 40-65 tahun\":2, \"lebih dari 65 tahun\":3})"
   ]
  },
  {
   "cell_type": "code",
   "execution_count": 17,
   "id": "12333a74",
   "metadata": {},
   "outputs": [],
   "source": [
    "data[\"PENGALAMAN_MENGEMUDI\"] = \\\n",
    "data[\"PENGALAMAN_MENGEMUDI\"].map({'kurang dari 10 tahun':0, 'antara 10-20 tahun':1, 'antara 20-30 tahun':2,'lebih dari 30 tahun':3})"
   ]
  },
  {
   "cell_type": "code",
   "execution_count": 18,
   "id": "f71cb0b3",
   "metadata": {},
   "outputs": [],
   "source": [
    "data[\"PENDIDIKAN\"] = \\\n",
    "data[\"PENDIDIKAN\"].map({'tidak ada':0, 'SMA':1,'universitas':3})"
   ]
  },
  {
   "cell_type": "code",
   "execution_count": 19,
   "id": "15c0e9cd",
   "metadata": {},
   "outputs": [],
   "source": [
    "data[\"PENGHASILAN\"] = \\\n",
    "data[\"PENGHASILAN\"].map({\"kurang dari UMR\":0, \"antara 1-2x UMR\":1, \"antara 2-3x UMR\":2, \"lebih dari 3x UMR\":3})"
   ]
  },
  {
   "cell_type": "code",
   "execution_count": 20,
   "id": "69161c71",
   "metadata": {},
   "outputs": [],
   "source": [
    "data[\"PEMILIK_KENDARAAN\"] = \\\n",
    "data[\"PEMILIK_KENDARAAN\"].map({'ya':0, 'tidak':1})"
   ]
  },
  {
   "cell_type": "code",
   "execution_count": 21,
   "id": "08d24000",
   "metadata": {},
   "outputs": [],
   "source": [
    "data[\"TAHUN_PRODUKSI\"] = \\\n",
    "data[\"TAHUN_PRODUKSI\"].map({\"setelah 2020\":0, \"sebelum 2020\":2})"
   ]
  },
  {
   "cell_type": "code",
   "execution_count": 22,
   "id": "7fe86da1",
   "metadata": {},
   "outputs": [],
   "source": [
    "data[\"STATUS\"] = \\\n",
    "data[\"STATUS\"].map({\"belum menikah\":0, \"menikah\":1})"
   ]
  },
  {
   "cell_type": "code",
   "execution_count": 23,
   "id": "7788ba84",
   "metadata": {},
   "outputs": [],
   "source": [
    "data[\"ANAK\"] = \\\n",
    "data[\"ANAK\"].map({\"'ada\":0, \"tidak ada\":1})"
   ]
  },
  {
   "cell_type": "code",
   "execution_count": 24,
   "id": "006370f3",
   "metadata": {},
   "outputs": [],
   "source": [
    "data[\"JENIS_KENDARAAN\"] = \\\n",
    "data[\"JENIS_KENDARAAN\"].map({'keluarga':0, 'sport':1})"
   ]
  },
  {
   "cell_type": "code",
   "execution_count": 25,
   "id": "e4531210",
   "metadata": {},
   "outputs": [],
   "source": [
    "data[\"KLAIM\"] = \\\n",
    "data[\"KLAIM\"].map({'tidak':0, 'ya':1})"
   ]
  },
  {
   "cell_type": "code",
   "execution_count": 26,
   "id": "1e6b8bc5",
   "metadata": {},
   "outputs": [
    {
     "data": {
      "text/plain": [
       "Index(['Unnamed: 0', 'IDENTITAS', 'UMUR', 'JENIS_KELAMIN',\n",
       "       'PENGALAMAN_MENGEMUDI', 'PENDIDIKAN', 'PENGHASILAN', 'SKOR_KREDIT',\n",
       "       'PEMILIK_KENDARAAN', 'TAHUN_PRODUKSI', 'STATUS', 'ANAK', 'KODE_POS',\n",
       "       'KM_PER_TAHUN', 'JENIS_KENDARAAN', 'TILANG_NGEBUT', 'TILANG_MABUK',\n",
       "       'KECELAKAAN_SEBELUMNYA', 'KLAIM'],\n",
       "      dtype='object')"
      ]
     },
     "execution_count": 26,
     "metadata": {},
     "output_type": "execute_result"
    }
   ],
   "source": [
    "data.columns"
   ]
  },
  {
   "cell_type": "code",
   "execution_count": 27,
   "id": "1b059fcd",
   "metadata": {},
   "outputs": [
    {
     "data": {
      "text/plain": [
       "Unnamed: 0                 int64\n",
       "IDENTITAS                  int64\n",
       "UMUR                       int64\n",
       "JENIS_KELAMIN             object\n",
       "PENGALAMAN_MENGEMUDI       int64\n",
       "PENDIDIKAN                 int64\n",
       "PENGHASILAN                int64\n",
       "SKOR_KREDIT              float64\n",
       "PEMILIK_KENDARAAN          int64\n",
       "TAHUN_PRODUKSI             int64\n",
       "STATUS                     int64\n",
       "ANAK                     float64\n",
       "KODE_POS                   int64\n",
       "KM_PER_TAHUN             float64\n",
       "JENIS_KENDARAAN            int64\n",
       "TILANG_NGEBUT              int64\n",
       "TILANG_MABUK               int64\n",
       "KECELAKAAN_SEBELUMNYA      int64\n",
       "KLAIM                      int64\n",
       "dtype: object"
      ]
     },
     "execution_count": 27,
     "metadata": {},
     "output_type": "execute_result"
    }
   ],
   "source": [
    "data.dtypes"
   ]
  },
  {
   "cell_type": "markdown",
   "id": "68eb3685",
   "metadata": {},
   "source": [
    "# One Hot Encoding"
   ]
  },
  {
   "cell_type": "code",
   "execution_count": 28,
   "id": "b720869a",
   "metadata": {},
   "outputs": [],
   "source": [
    "data_categorical =[\"JENIS_KELAMIN\"]\n",
    "data_numeric =[\"UMUR\",\"PENGALAMAN_MENGEMUDI\",\"PENDIDIKAN\", \"PENGHASILAN\",]\n",
    "data_binary = [\"KLAIM\",\"ANAK\",\"STATUS\",\"TAHUN_PRODUKSI\",\"PEMILIK_KENDARAAN\",\"JENIS_KENDARAAN  \"]\n",
    "data_target = [\"KLAIM\"]"
   ]
  },
  {
   "cell_type": "code",
   "execution_count": 29,
   "id": "e080d3ad",
   "metadata": {},
   "outputs": [
    {
     "data": {
      "text/html": [
       "<div>\n",
       "<style scoped>\n",
       "    .dataframe tbody tr th:only-of-type {\n",
       "        vertical-align: middle;\n",
       "    }\n",
       "\n",
       "    .dataframe tbody tr th {\n",
       "        vertical-align: top;\n",
       "    }\n",
       "\n",
       "    .dataframe thead th {\n",
       "        text-align: right;\n",
       "    }\n",
       "</style>\n",
       "<table border=\"1\" class=\"dataframe\">\n",
       "  <thead>\n",
       "    <tr style=\"text-align: right;\">\n",
       "      <th></th>\n",
       "      <th>Unnamed: 0</th>\n",
       "      <th>IDENTITAS</th>\n",
       "      <th>UMUR</th>\n",
       "      <th>PENGALAMAN_MENGEMUDI</th>\n",
       "      <th>PENDIDIKAN</th>\n",
       "      <th>PENGHASILAN</th>\n",
       "      <th>SKOR_KREDIT</th>\n",
       "      <th>PEMILIK_KENDARAAN</th>\n",
       "      <th>TAHUN_PRODUKSI</th>\n",
       "      <th>STATUS</th>\n",
       "      <th>ANAK</th>\n",
       "      <th>KODE_POS</th>\n",
       "      <th>KM_PER_TAHUN</th>\n",
       "      <th>JENIS_KENDARAAN</th>\n",
       "      <th>TILANG_NGEBUT</th>\n",
       "      <th>TILANG_MABUK</th>\n",
       "      <th>KECELAKAAN_SEBELUMNYA</th>\n",
       "      <th>KLAIM</th>\n",
       "      <th>JENIS_KELAMIN_laki-laki</th>\n",
       "      <th>JENIS_KELAMIN_perempuan</th>\n",
       "    </tr>\n",
       "  </thead>\n",
       "  <tbody>\n",
       "    <tr>\n",
       "      <th>0</th>\n",
       "      <td>0</td>\n",
       "      <td>569520</td>\n",
       "      <td>3</td>\n",
       "      <td>0</td>\n",
       "      <td>1</td>\n",
       "      <td>3</td>\n",
       "      <td>0.629027</td>\n",
       "      <td>0</td>\n",
       "      <td>0</td>\n",
       "      <td>0</td>\n",
       "      <td>NaN</td>\n",
       "      <td>10238</td>\n",
       "      <td>12000.0</td>\n",
       "      <td>0</td>\n",
       "      <td>0</td>\n",
       "      <td>0</td>\n",
       "      <td>0</td>\n",
       "      <td>0</td>\n",
       "      <td>0</td>\n",
       "      <td>1</td>\n",
       "    </tr>\n",
       "    <tr>\n",
       "      <th>1</th>\n",
       "      <td>1</td>\n",
       "      <td>750365</td>\n",
       "      <td>0</td>\n",
       "      <td>0</td>\n",
       "      <td>0</td>\n",
       "      <td>0</td>\n",
       "      <td>0.357757</td>\n",
       "      <td>1</td>\n",
       "      <td>2</td>\n",
       "      <td>0</td>\n",
       "      <td>1.0</td>\n",
       "      <td>10238</td>\n",
       "      <td>16000.0</td>\n",
       "      <td>0</td>\n",
       "      <td>0</td>\n",
       "      <td>0</td>\n",
       "      <td>0</td>\n",
       "      <td>1</td>\n",
       "      <td>1</td>\n",
       "      <td>0</td>\n",
       "    </tr>\n",
       "    <tr>\n",
       "      <th>2</th>\n",
       "      <td>2</td>\n",
       "      <td>199901</td>\n",
       "      <td>0</td>\n",
       "      <td>0</td>\n",
       "      <td>1</td>\n",
       "      <td>1</td>\n",
       "      <td>0.493146</td>\n",
       "      <td>0</td>\n",
       "      <td>2</td>\n",
       "      <td>0</td>\n",
       "      <td>1.0</td>\n",
       "      <td>10238</td>\n",
       "      <td>11000.0</td>\n",
       "      <td>0</td>\n",
       "      <td>0</td>\n",
       "      <td>0</td>\n",
       "      <td>0</td>\n",
       "      <td>0</td>\n",
       "      <td>0</td>\n",
       "      <td>1</td>\n",
       "    </tr>\n",
       "    <tr>\n",
       "      <th>3</th>\n",
       "      <td>3</td>\n",
       "      <td>478866</td>\n",
       "      <td>0</td>\n",
       "      <td>0</td>\n",
       "      <td>3</td>\n",
       "      <td>1</td>\n",
       "      <td>0.206013</td>\n",
       "      <td>0</td>\n",
       "      <td>2</td>\n",
       "      <td>0</td>\n",
       "      <td>NaN</td>\n",
       "      <td>32765</td>\n",
       "      <td>11000.0</td>\n",
       "      <td>0</td>\n",
       "      <td>0</td>\n",
       "      <td>0</td>\n",
       "      <td>0</td>\n",
       "      <td>0</td>\n",
       "      <td>1</td>\n",
       "      <td>0</td>\n",
       "    </tr>\n",
       "    <tr>\n",
       "      <th>4</th>\n",
       "      <td>4</td>\n",
       "      <td>731664</td>\n",
       "      <td>1</td>\n",
       "      <td>1</td>\n",
       "      <td>0</td>\n",
       "      <td>1</td>\n",
       "      <td>0.388366</td>\n",
       "      <td>0</td>\n",
       "      <td>2</td>\n",
       "      <td>0</td>\n",
       "      <td>1.0</td>\n",
       "      <td>32765</td>\n",
       "      <td>12000.0</td>\n",
       "      <td>0</td>\n",
       "      <td>2</td>\n",
       "      <td>0</td>\n",
       "      <td>1</td>\n",
       "      <td>1</td>\n",
       "      <td>1</td>\n",
       "      <td>0</td>\n",
       "    </tr>\n",
       "  </tbody>\n",
       "</table>\n",
       "</div>"
      ],
      "text/plain": [
       "   Unnamed: 0  IDENTITAS  UMUR  PENGALAMAN_MENGEMUDI  PENDIDIKAN  PENGHASILAN  \\\n",
       "0           0     569520     3                     0           1            3   \n",
       "1           1     750365     0                     0           0            0   \n",
       "2           2     199901     0                     0           1            1   \n",
       "3           3     478866     0                     0           3            1   \n",
       "4           4     731664     1                     1           0            1   \n",
       "\n",
       "   SKOR_KREDIT  PEMILIK_KENDARAAN  TAHUN_PRODUKSI  STATUS  ANAK  KODE_POS  \\\n",
       "0     0.629027                  0               0       0   NaN     10238   \n",
       "1     0.357757                  1               2       0   1.0     10238   \n",
       "2     0.493146                  0               2       0   1.0     10238   \n",
       "3     0.206013                  0               2       0   NaN     32765   \n",
       "4     0.388366                  0               2       0   1.0     32765   \n",
       "\n",
       "   KM_PER_TAHUN  JENIS_KENDARAAN  TILANG_NGEBUT  TILANG_MABUK  \\\n",
       "0       12000.0                0              0             0   \n",
       "1       16000.0                0              0             0   \n",
       "2       11000.0                0              0             0   \n",
       "3       11000.0                0              0             0   \n",
       "4       12000.0                0              2             0   \n",
       "\n",
       "   KECELAKAAN_SEBELUMNYA  KLAIM  JENIS_KELAMIN_laki-laki  \\\n",
       "0                      0      0                        0   \n",
       "1                      0      1                        1   \n",
       "2                      0      0                        0   \n",
       "3                      0      0                        1   \n",
       "4                      1      1                        1   \n",
       "\n",
       "   JENIS_KELAMIN_perempuan  \n",
       "0                        1  \n",
       "1                        0  \n",
       "2                        1  \n",
       "3                        0  \n",
       "4                        0  "
      ]
     },
     "execution_count": 29,
     "metadata": {},
     "output_type": "execute_result"
    }
   ],
   "source": [
    "data_categorical = pd.get_dummies(data)\n",
    "data_categorical.head()"
   ]
  },
  {
   "cell_type": "code",
   "execution_count": 30,
   "id": "7d56121a",
   "metadata": {},
   "outputs": [],
   "source": [
    "data_drop = data_categorical.drop(data_numeric, axis =1) "
   ]
  },
  {
   "cell_type": "raw",
   "id": "bfc59724",
   "metadata": {},
   "source": [
    "data_drop.head()"
   ]
  },
  {
   "cell_type": "code",
   "execution_count": 31,
   "id": "8a199e0b",
   "metadata": {},
   "outputs": [
    {
     "data": {
      "text/html": [
       "<div>\n",
       "<style scoped>\n",
       "    .dataframe tbody tr th:only-of-type {\n",
       "        vertical-align: middle;\n",
       "    }\n",
       "\n",
       "    .dataframe tbody tr th {\n",
       "        vertical-align: top;\n",
       "    }\n",
       "\n",
       "    .dataframe thead th {\n",
       "        text-align: right;\n",
       "    }\n",
       "</style>\n",
       "<table border=\"1\" class=\"dataframe\">\n",
       "  <thead>\n",
       "    <tr style=\"text-align: right;\">\n",
       "      <th></th>\n",
       "      <th>UMUR</th>\n",
       "      <th>PENGALAMAN_MENGEMUDI</th>\n",
       "      <th>PENDIDIKAN</th>\n",
       "      <th>PENGHASILAN</th>\n",
       "    </tr>\n",
       "  </thead>\n",
       "  <tbody>\n",
       "    <tr>\n",
       "      <th>count</th>\n",
       "      <td>10000.000000</td>\n",
       "      <td>10000.000000</td>\n",
       "      <td>10000.000000</td>\n",
       "      <td>10000.000000</td>\n",
       "    </tr>\n",
       "    <tr>\n",
       "      <th>mean</th>\n",
       "      <td>1.489500</td>\n",
       "      <td>1.069300</td>\n",
       "      <td>1.594100</td>\n",
       "      <td>1.899600</td>\n",
       "    </tr>\n",
       "    <tr>\n",
       "      <th>std</th>\n",
       "      <td>1.025278</td>\n",
       "      <td>0.990452</td>\n",
       "      <td>1.187386</td>\n",
       "      <td>1.149109</td>\n",
       "    </tr>\n",
       "    <tr>\n",
       "      <th>min</th>\n",
       "      <td>0.000000</td>\n",
       "      <td>0.000000</td>\n",
       "      <td>0.000000</td>\n",
       "      <td>0.000000</td>\n",
       "    </tr>\n",
       "    <tr>\n",
       "      <th>25%</th>\n",
       "      <td>1.000000</td>\n",
       "      <td>0.000000</td>\n",
       "      <td>1.000000</td>\n",
       "      <td>1.000000</td>\n",
       "    </tr>\n",
       "    <tr>\n",
       "      <th>50%</th>\n",
       "      <td>1.000000</td>\n",
       "      <td>1.000000</td>\n",
       "      <td>1.000000</td>\n",
       "      <td>2.000000</td>\n",
       "    </tr>\n",
       "    <tr>\n",
       "      <th>75%</th>\n",
       "      <td>2.000000</td>\n",
       "      <td>2.000000</td>\n",
       "      <td>3.000000</td>\n",
       "      <td>3.000000</td>\n",
       "    </tr>\n",
       "    <tr>\n",
       "      <th>max</th>\n",
       "      <td>3.000000</td>\n",
       "      <td>3.000000</td>\n",
       "      <td>3.000000</td>\n",
       "      <td>3.000000</td>\n",
       "    </tr>\n",
       "  </tbody>\n",
       "</table>\n",
       "</div>"
      ],
      "text/plain": [
       "               UMUR  PENGALAMAN_MENGEMUDI    PENDIDIKAN   PENGHASILAN\n",
       "count  10000.000000          10000.000000  10000.000000  10000.000000\n",
       "mean       1.489500              1.069300      1.594100      1.899600\n",
       "std        1.025278              0.990452      1.187386      1.149109\n",
       "min        0.000000              0.000000      0.000000      0.000000\n",
       "25%        1.000000              0.000000      1.000000      1.000000\n",
       "50%        1.000000              1.000000      1.000000      2.000000\n",
       "75%        2.000000              2.000000      3.000000      3.000000\n",
       "max        3.000000              3.000000      3.000000      3.000000"
      ]
     },
     "execution_count": 31,
     "metadata": {},
     "output_type": "execute_result"
    }
   ],
   "source": [
    "data[data_numeric].describe()"
   ]
  },
  {
   "cell_type": "code",
   "execution_count": null,
   "id": "c0aff69c",
   "metadata": {},
   "outputs": [],
   "source": []
  }
 ],
 "metadata": {
  "kernelspec": {
   "display_name": "Python 3 (ipykernel)",
   "language": "python",
   "name": "python3"
  },
  "language_info": {
   "codemirror_mode": {
    "name": "ipython",
    "version": 3
   },
   "file_extension": ".py",
   "mimetype": "text/x-python",
   "name": "python",
   "nbconvert_exporter": "python",
   "pygments_lexer": "ipython3",
   "version": "3.10.9"
  }
 },
 "nbformat": 4,
 "nbformat_minor": 5
}
